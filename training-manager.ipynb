{
 "cells": [
  {
   "cell_type": "code",
   "execution_count": null,
   "metadata": {
    "collapsed": true
   },
   "outputs": [],
   "source": [
    "MODEL_DIR = \"ssd_mobilenet_v1_fpn_640x640_coco17_tpu-8\"\n",
    "\n",
    "import os\n",
    "os.chdir(\"./TensorFlow/workspace/model1\")"
   ]
  },
  {
   "cell_type": "markdown",
   "source": [
    "## Create TF records\n",
    "make sure you have all the images with the corresponding .xml files in the directory \"images/train\""
   ],
   "metadata": {
    "collapsed": false
   }
  },
  {
   "cell_type": "code",
   "execution_count": null,
   "outputs": [],
   "source": [
    "#train\n",
    "#os.system(\"python generate_tfrecord.py -x ./images/train -l ./annotations/label_map.pbtxt -o ./annotations/train.record\")\n",
    "#test\n",
    "#os.system(\"python generate_tfrecord.py -x ./images/test -l ./annotations/label_map.pbtxt -o ./annotations/test.record\")"
   ],
   "metadata": {
    "collapsed": false
   }
  },
  {
   "cell_type": "markdown",
   "source": [
    "## Start training"
   ],
   "metadata": {
    "collapsed": false
   }
  },
  {
   "cell_type": "code",
   "execution_count": null,
   "outputs": [],
   "source": [
    "os.system(\"python model_main_tf2.py --model_dir=models/\"+ MODEL_DIR +\" --pipeline_config_path=models/\"+MODEL_DIR+\"/pipeline.config\")"
   ],
   "metadata": {
    "collapsed": false
   }
  },
  {
   "cell_type": "markdown",
   "source": [
    "## Export the Model"
   ],
   "metadata": {
    "collapsed": false
   }
  },
  {
   "cell_type": "code",
   "execution_count": null,
   "outputs": [],
   "source": [
    "os.system(\"python exporter_main_v2.py --input_type image_tensor --pipeline_config_path models/\"+ MODEL_DIR +\"/pipeline.config --trained_checkpoint_dir models/\"+ MODEL_DIR +\"/ --output_directory exported-models/myModel\")"
   ],
   "metadata": {
    "collapsed": false
   }
  },
  {
   "cell_type": "markdown",
   "source": [
    "## Evaluate the Model"
   ],
   "metadata": {
    "collapsed": false
   }
  },
  {
   "cell_type": "code",
   "execution_count": null,
   "outputs": [],
   "source": [
    "os.system(\"python model_main_tf2.py --model_dir=models/\"+MODEL_DIR + \" --pipeline_config_path=models/\"+ MODEL_DIR +\"/pipeline.config --checkpoint_dir=models/\" + MODEL_DIR)"
   ],
   "metadata": {
    "collapsed": false
   }
  },
  {
   "cell_type": "markdown",
   "source": [
    "## Start the Tensorboard monitor"
   ],
   "metadata": {
    "collapsed": false
   }
  },
  {
   "cell_type": "code",
   "execution_count": null,
   "outputs": [],
   "source": [
    "os.system(\"tensorboard --logdir=models/\"+ MODEL_DIR)\n"
   ],
   "metadata": {
    "collapsed": false
   }
  }
 ],
 "metadata": {
  "kernelspec": {
   "display_name": "Python 3",
   "language": "python",
   "name": "python3"
  },
  "language_info": {
   "codemirror_mode": {
    "name": "ipython",
    "version": 2
   },
   "file_extension": ".py",
   "mimetype": "text/x-python",
   "name": "python",
   "nbconvert_exporter": "python",
   "pygments_lexer": "ipython2",
   "version": "2.7.6"
  }
 },
 "nbformat": 4,
 "nbformat_minor": 0
}
