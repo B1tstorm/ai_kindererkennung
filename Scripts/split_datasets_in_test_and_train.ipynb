{
 "cells": [
  {
   "cell_type": "code",
   "execution_count": null,
   "outputs": [],
   "source": [
    "# Splits the datasets from label-studio export"
   ],
   "metadata": {
    "collapsed": false
   }
  },
  {
   "cell_type": "code",
   "execution_count": null,
   "outputs": [],
   "source": [
    "import json\n",
    "import os\n",
    "\n",
    "path_to_json = \"project-1-at-2023-01-23-15-16-4b8bba1d.json\""
   ],
   "metadata": {
    "collapsed": false
   }
  },
  {
   "cell_type": "code",
   "execution_count": null,
   "outputs": [],
   "source": [
    "def extract_test_json_for_labels(labels):\n",
    "    result = []\n",
    "    for label in labels:\n",
    "        result = result + extract_test_json_for_label(path_to_json, label, result)\n",
    "        result = list(set(result))\n",
    "\n",
    "    with open(\"test_datasets.json\", \"w\") as f:\n",
    "        json.dump(result, f)\n",
    "\n",
    "\n",
    "def extract_test_json_for_label(path_to_json, label, result):\n",
    "    json_file = open(path_to_json)\n",
    "    json_data = json.loads(json_file.read())\n",
    "    counter = 0\n",
    "\n",
    "    for item in json_data:\n",
    "        for annotation in item[\"annotations\"]:\n",
    "            for rect in annotation[\"result\"]:\n",
    "                if label in rect[\"value\"][\"rectanglelabels\"] and counter < 100 and item[\"file_upload\"] not in result:\n",
    "                    result.append(item[\"file_upload\"])\n",
    "                    counter += 1\n",
    "\n",
    "    return result\n",
    "\n",
    "\n",
    "labels_to_train_datasets = [\"woman\", \"man\", \"child\"]\n",
    "extract_test_json_for_labels(labels_to_train_datasets)"
   ],
   "metadata": {
    "collapsed": false
   }
  },
  {
   "cell_type": "code",
   "execution_count": null,
   "outputs": [],
   "source": [
    "def move_images_and_labels_to_test_dir():\n",
    "    with open(\"test_datasets.json\", \"r\") as file:\n",
    "        json_string = file.read()\n",
    "        loaded_list = json.loads(json_string)\n",
    "\n",
    "    os.chdir(\"../\")\n",
    "    path_to_image_dir = os.getcwd() + \"/TensorFlow/workspace/model1/images\"\n",
    "    os.chdir(\"./Scripts\")\n",
    "    for image_name in loaded_list:\n",
    "        #move images\n",
    "        src_path = path_to_image_dir + \"/exported_datasets/\" + image_name\n",
    "        dst_dir = path_to_image_dir + \"/test\"\n",
    "        dst_path = os.path.join(dst_dir, image_name)\n",
    "        try:\n",
    "            os.rename(src_path, dst_path)\n",
    "        except:\n",
    "            print(\"File \\\"\" + image_name + \"\\\" might me already in directory\" + dst_dir)\n",
    "        #move xml\n",
    "        xml_name = image_name.split(\".\")[0] + \".xml\"\n",
    "        src_path = path_to_image_dir + \"/exported_datasets/\" + xml_name\n",
    "        dst_dir = path_to_image_dir + \"/test\"\n",
    "        dst_path = os.path.join(dst_dir, xml_name)\n",
    "        try:\n",
    "            os.rename(src_path, dst_path)\n",
    "        except:\n",
    "            print(\"File \\\"\" + xml_name + \"\\\" might me already in directory\" + dst_dir)\n",
    "\n",
    "\n",
    "move_images_and_labels_to_test_dir()"
   ],
   "metadata": {
    "collapsed": false
   }
  },
  {
   "cell_type": "code",
   "execution_count": null,
   "outputs": [],
   "source": [
    "import os\n",
    "\n",
    "\n",
    "def move_train_dataset_to_train_dir():\n",
    "    os.chdir(\"../TensorFlow/workspace/model1/images\")\n",
    "    os.system(\"mv exported_datasets/* train/\")\n",
    "    os.chdir(\"../../../../Scripts\")\n",
    "\n",
    "\n",
    "move_train_dataset_to_train_dir()"
   ],
   "metadata": {
    "collapsed": false
   }
  }
 ],
 "metadata": {
  "kernelspec": {
   "display_name": "Python 3",
   "language": "python",
   "name": "python3"
  },
  "language_info": {
   "codemirror_mode": {
    "name": "ipython",
    "version": 2
   },
   "file_extension": ".py",
   "mimetype": "text/x-python",
   "name": "python",
   "nbconvert_exporter": "python",
   "pygments_lexer": "ipython2",
   "version": "2.7.6"
  }
 },
 "nbformat": 4,
 "nbformat_minor": 0
}
