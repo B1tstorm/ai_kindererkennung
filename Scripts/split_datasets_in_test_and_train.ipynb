{
 "cells": [
  {
   "cell_type": "code",
   "execution_count": null,
   "metadata": {
    "collapsed": true
   },
   "outputs": [],
   "source": [
    "# Splits the datasets from label-studio export"
   ]
  },
  {
   "cell_type": "code",
   "execution_count": null,
   "outputs": [],
   "source": [
    "import json\n",
    "\n",
    "path_to_json = \"project-1-at-2023-01-23-15-16-4b8bba1d.json\""
   ],
   "metadata": {
    "collapsed": false
   }
  },
  {
   "cell_type": "code",
   "execution_count": null,
   "outputs": [],
   "source": [
    "def extract_data(path_to_json, label):\n",
    "    \"\"\"Diese Funktion nimmt als Eingabe eine Liste von JSON-Objekten und den gewünschten Label-String und gibt eine Liste von \"data\"-Objekten zurück, die den gewünschten Label-String enthalten.\"\"\"\n",
    "\n",
    "    json_file = open(path_to_json)\n",
    "    json_data = json.loads(json_file.read())\n",
    "    data_list = []\n",
    "    for item in json_data:\n",
    "        annotations = item.get(\"annotations\")\n",
    "        for annotation in annotations:\n",
    "            result = annotation.get(\"result\")\n",
    "            for res in result:\n",
    "                rectanglelabels = res.get(\"value\").get(\"rectanglelabels\")\n",
    "                if label in rectanglelabels:\n",
    "                    data_list.append(item.get(\"data\"))\n",
    "    return data_list\n",
    "\n",
    "\n",
    "#print(extract_data(json_data, \"woman\"))\n",
    "labels_to_train_datasets = [\"woman\", \"man\", \"child\"]\n",
    "\n",
    "\n",
    "def extract_test_json_for_labels(labels):\n",
    "    json_object = {}\n",
    "    for label in labels:\n",
    "        result = extract_test_json_for_label(path_to_json, label)\n",
    "        json_object[label] = result\n",
    "\n",
    "    with open(\"test_datasets.json\", \"w\") as f:\n",
    "        json.dump(json_object, f)\n",
    "\n",
    "def extract_test_json_for_label(path_to_json, label):\n",
    "    json_file = open(path_to_json)\n",
    "    json_data = json.loads(json_file.read())\n",
    "    counter = 0\n",
    "    result = []\n",
    "\n",
    "    for item in json_data:\n",
    "        for annotation in item[\"annotations\"]:\n",
    "            for rect in annotation[\"result\"]:\n",
    "                if label in rect[\"value\"][\"rectanglelabels\"] and counter < 100:\n",
    "                    result.append(item[\"file_upload\"])\n",
    "                    counter += 1\n",
    "                    print(counter)\n",
    "\n",
    "    return result\n",
    "\n",
    "extract_test_json_for_labels(labels_to_train_datasets)"
   ],
   "metadata": {
    "collapsed": false
   }
  },
  {
   "cell_type": "code",
   "execution_count": null,
   "outputs": [],
   "source": [],
   "metadata": {
    "collapsed": false
   }
  },
  {
   "cell_type": "code",
   "execution_count": null,
   "outputs": [],
   "source": [],
   "metadata": {
    "collapsed": false
   }
  }
 ],
 "metadata": {
  "kernelspec": {
   "display_name": "Python 3",
   "language": "python",
   "name": "python3"
  },
  "language_info": {
   "codemirror_mode": {
    "name": "ipython",
    "version": 2
   },
   "file_extension": ".py",
   "mimetype": "text/x-python",
   "name": "python",
   "nbconvert_exporter": "python",
   "pygments_lexer": "ipython2",
   "version": "2.7.6"
  }
 },
 "nbformat": 4,
 "nbformat_minor": 0
}
