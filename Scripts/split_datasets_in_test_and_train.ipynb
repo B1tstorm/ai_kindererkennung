{
 "cells": [
  {
   "cell_type": "code",
   "execution_count": 2,
   "outputs": [],
   "source": [
    "# Splits the datasets from label-studio export"
   ],
   "metadata": {
    "collapsed": false
   }
  },
  {
   "cell_type": "code",
   "execution_count": 3,
   "outputs": [],
   "source": [
    "import json\n",
    "import os\n",
    "\n",
    "path_to_json = \"project-1-at-2023-01-23-15-16-4b8bba1d.json\""
   ],
   "metadata": {
    "collapsed": false
   }
  },
  {
   "cell_type": "code",
   "execution_count": 4,
   "outputs": [],
   "source": [
    "def extract_data(path_to_json, label):\n",
    "    \"\"\"Diese Funktion nimmt als Eingabe eine Liste von JSON-Objekten und den gewünschten Label-String und gibt eine Liste von \"data\"-Objekten zurück, die den gewünschten Label-String enthalten.\"\"\"\n",
    "\n",
    "    json_file = open(path_to_json)\n",
    "    json_data = json.loads(json_file.read())\n",
    "    data_list = []\n",
    "    for item in json_data:\n",
    "        annotations = item.get(\"annotations\")\n",
    "        for annotation in annotations:\n",
    "            result = annotation.get(\"result\")\n",
    "            for res in result:\n",
    "                rectanglelabels = res.get(\"value\").get(\"rectanglelabels\")\n",
    "                if label in rectanglelabels:\n",
    "                    data_list.append(item.get(\"data\"))\n",
    "    return data_list\n",
    "\n",
    "\n",
    "#print(extract_data(json_data, \"woman\"))\n",
    "labels_to_train_datasets = [\"woman\", \"man\", \"child\"]\n",
    "\n",
    "def extract_test_json_for_labels(labels):\n",
    "\n",
    "    result = []\n",
    "    for label in labels:\n",
    "        result = result + extract_test_json_for_label(path_to_json, label , result)\n",
    "        result = list(set(result))\n",
    "\n",
    "    with open(\"test_datasets.json\", \"w\") as f:\n",
    "        json.dump(result, f)\n",
    "\n",
    "\n",
    "def extract_test_json_for_label(path_to_json, label , result):\n",
    "    json_file = open(path_to_json)\n",
    "    json_data = json.loads(json_file.read())\n",
    "    counter = 0\n",
    "\n",
    "\n",
    "    for item in json_data:\n",
    "        for annotation in item[\"annotations\"]:\n",
    "            for rect in annotation[\"result\"]:\n",
    "                if label in rect[\"value\"][\"rectanglelabels\"] and counter < 100 and item[\"file_upload\"] not in result:\n",
    "                    result.append(item[\"file_upload\"])\n",
    "                    counter += 1\n",
    "\n",
    "    return result\n",
    "\n",
    "extract_test_json_for_labels(labels_to_train_datasets)"
   ],
   "metadata": {
    "collapsed": false
   }
  },
  {
   "cell_type": "code",
   "execution_count": 5,
   "outputs": [],
   "source": [
    "def move_images_and_labels_to_test_dir():\n",
    "    with open(\"test_datasets.json\", \"r\") as file:\n",
    "        json_string = file.read()\n",
    "        loaded_list = json.loads(json_string)\n",
    "\n",
    "    os.chdir(\"../\")\n",
    "    path_to_image_dir = os.getcwd() + \"/TensorFlow/workspace/project_museum/images\"\n",
    "    os.chdir(\"./Scripts\")\n",
    "    for image_name in loaded_list:\n",
    "        #move images\n",
    "        src_path = path_to_image_dir+\"/exported_datasets/\"+image_name\n",
    "        dst_dir = path_to_image_dir+\"/test\"\n",
    "        dst_path = os.path.join(dst_dir, image_name)\n",
    "        try:\n",
    "            os.rename(src_path, dst_path)\n",
    "        except:\n",
    "            print(\"File \\\"\"+image_name+\"\\\" might me already in directory\"+ dst_dir)\n",
    "        #move xml\n",
    "        xml_name = image_name.split(\".\")[0]+\".xml\"\n",
    "        src_path = path_to_image_dir+\"/exported_datasets/\"+xml_name\n",
    "        dst_dir = path_to_image_dir+\"/test\"\n",
    "        dst_path = os.path.join(dst_dir, xml_name)\n",
    "        try:\n",
    "            os.rename(src_path, dst_path)\n",
    "        except:\n",
    "            print(\"File \\\"\"+xml_name+\"\\\" might me already in directory\" + dst_dir)\n",
    "\n",
    "\n",
    "move_images_and_labels_to_test_dir()"
   ],
   "metadata": {
    "collapsed": false
   }
  },
  {
   "cell_type": "code",
   "execution_count": 6,
   "outputs": [],
   "source": [
    "import os\n",
    "def move_train_dataset_to_train_dir():\n",
    "    os.chdir(\"../TensorFlow/workspace/project_museum/images\")\n",
    "    os.system(\"mv exported_datasets/* train/\")\n",
    "    os.chdir(\"../../../../Scripts\")\n",
    "\n",
    "\n",
    "move_train_dataset_to_train_dir()"
   ],
   "metadata": {
    "collapsed": false
   }
  }
 ],
 "metadata": {
  "kernelspec": {
   "display_name": "Python 3",
   "language": "python",
   "name": "python3"
  },
  "language_info": {
   "codemirror_mode": {
    "name": "ipython",
    "version": 2
   },
   "file_extension": ".py",
   "mimetype": "text/x-python",
   "name": "python",
   "nbconvert_exporter": "python",
   "pygments_lexer": "ipython2",
   "version": "2.7.6"
  }
 },
 "nbformat": 4,
 "nbformat_minor": 0
}
