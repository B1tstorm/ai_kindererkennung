{
 "cells": [
  {
   "cell_type": "code",
   "execution_count": 34,
   "outputs": [
    {
     "name": "stdout",
     "output_type": "stream",
     "text": [
      "Anzahl der Bilder die in beiden Datein übereinstimmen :  1134\n"
     ]
    }
   ],
   "source": [
    "import pandas as pd\n",
    "\n",
    "my_csv = pd.read_csv(\"childlist Mon Feb 13 12:23:58 2023.csv\")\n",
    "clm1 = my_csv[str(my_csv.columns[1])]\n",
    "\n",
    "my_csv2 = pd.read_csv(\"childlist found from model 13 Feb 2023 11-56-00.csv\")\n",
    "clm2 = my_csv2[str(my_csv2.columns[1])]\n",
    "\n",
    "counter = 0\n",
    "for image1 in clm1:\n",
    "    for image2 in clm2:\n",
    "        image2 = image2.replace(\" \", \"_\")\n",
    "        if image1 == image2:\n",
    "            counter=counter+1\n",
    "\n",
    "print(\"Anzahl der Bilder die in beiden Dateien übereinstimmen : \" , counter)"
   ],
   "metadata": {
    "collapsed": false
   }
  }
 ],
 "metadata": {
  "kernelspec": {
   "display_name": "Python 3",
   "language": "python",
   "name": "python3"
  },
  "language_info": {
   "codemirror_mode": {
    "name": "ipython",
    "version": 2
   },
   "file_extension": ".py",
   "mimetype": "text/x-python",
   "name": "python",
   "nbconvert_exporter": "python",
   "pygments_lexer": "ipython2",
   "version": "2.7.6"
  }
 },
 "nbformat": 4,
 "nbformat_minor": 0
}
