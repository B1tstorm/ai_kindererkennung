{
 "cells": [
  {
   "cell_type": "code",
   "execution_count": null,
   "metadata": {
    "collapsed": true
   },
   "outputs": [],
   "source": [
    "MODEL_DIR = \"centernet_hg_104_512x512_coco17_tpu-8\"\n",
    "\n",
    "import os\n",
    "\n",
    "os.chdir(\"../TensorFlow/workspace/project_museum\")"
   ]
  },
  {
   "cell_type": "markdown",
   "source": [
    "## Create TF records\n",
    "make sure you have all the images with the corresponding .xml files in the directory \"project_museum/images/exported_datasets\""
   ],
   "metadata": {
    "collapsed": false
   }
  },
  {
   "cell_type": "code",
   "execution_count": null,
   "outputs": [],
   "source": [
    "#train\n",
    "os.system(\n",
    "    \"python generate_tfrecord.py -x ./images/train -l ./annotations/label_map.pbtxt -o ./annotations/train.record\")\n",
    "#test\n",
    "os.system(\"python generate_tfrecord.py -x ./images/test -l ./annotations/label_map.pbtxt -o ./annotations/test.record\")"
   ],
   "metadata": {
    "collapsed": false
   }
  },
  {
   "cell_type": "markdown",
   "source": [
    "## Start training"
   ],
   "metadata": {
    "collapsed": false
   }
  },
  {
   "cell_type": "code",
   "execution_count": null,
   "outputs": [],
   "source": [
    "os.system(\n",
    "    \"python model_main_tf2.py --model_dir=models/\" + MODEL_DIR + \" --pipeline_config_path=models/\" + MODEL_DIR + \"/pipeline.config\")"
   ],
   "metadata": {
    "collapsed": false
   }
  },
  {
   "cell_type": "markdown",
   "source": [
    "## Evaluate the Model"
   ],
   "metadata": {
    "collapsed": false
   }
  },
  {
   "cell_type": "code",
   "execution_count": null,
   "outputs": [],
   "source": [
    "os.system(\n",
    "    \"python model_main_tf2.py --model_dir=models/\" + MODEL_DIR + \" --pipeline_config_path=models/\" + MODEL_DIR + \"/pipeline.config --checkpoint_dir=models/\" + MODEL_DIR)"
   ],
   "metadata": {
    "collapsed": false
   }
  },
  {
   "cell_type": "markdown",
   "source": [
    "## Start the Tensorboard monitor"
   ],
   "metadata": {
    "collapsed": false
   }
  },
  {
   "cell_type": "code",
   "execution_count": null,
   "outputs": [],
   "source": [
    "os.system(\"tensorboard --logdir=models/\" + MODEL_DIR)"
   ],
   "metadata": {
    "collapsed": false
   }
  },
  {
   "cell_type": "markdown",
   "source": [
    "## Export the Model"
   ],
   "metadata": {
    "collapsed": false
   }
  },
  {
   "cell_type": "code",
   "execution_count": null,
   "outputs": [],
   "source": [
    "exported_model_name = \"myModel\"\n",
    "\n",
    "os.system(\n",
    "    \"python exporter_main_v2.py --input_type image_tensor --pipeline_config_path models/\" + MODEL_DIR + \"/pipeline.config --trained_checkpoint_dir models/\" + MODEL_DIR + \"/ --output_directory exported-models/\" + exported_model_name)"
   ],
   "metadata": {
    "collapsed": false
   }
  }
 ],
 "metadata": {
  "kernelspec": {
   "display_name": "Python 3",
   "language": "python",
   "name": "python3"
  },
  "language_info": {
   "codemirror_mode": {
    "name": "ipython",
    "version": 2
   },
   "file_extension": ".py",
   "mimetype": "text/x-python",
   "name": "python",
   "nbconvert_exporter": "python",
   "pygments_lexer": "ipython2",
   "version": "2.7.6"
  }
 },
 "nbformat": 4,
 "nbformat_minor": 0
}
