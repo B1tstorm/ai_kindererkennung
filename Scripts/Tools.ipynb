{
 "cells": [
  {
   "cell_type": "code",
   "execution_count": null,
   "metadata": {
    "collapsed": true
   },
   "outputs": [],
   "source": [
    "# Diverse Tools"
   ]
  },
  {
   "cell_type": "code",
   "execution_count": 4,
   "outputs": [
    {
     "name": "stdout",
     "output_type": "stream",
     "text": [
      "Label names:  {'man', 'person', 'woman', 'child'}\n",
      "Pictures with unnamed labels:  84\n",
      "PictureIds with unnamed labels:  [89, 89, 90, 99, 101, 112, 115, 133, 133, 218, 218, 310, 314, 314, 348, 351, 373, 389, 401, 408, 408, 476, 494, 563, 604, 643, 707, 844, 844, 1180, 1282, 1709, 1723, 1723, 1724, 1775, 1790, 1808, 1832, 1878, 1878, 1878, 1878, 1928, 1928, 1928, 1928, 1928, 1928, 1928, 1988, 2000, 2029, 2030, 2030, 2080, 2118, 2119, 2119, 2119, 2134, 2134, 2136, 2136, 2138, 2243, 2281, 2800, 2934, 3739, 4009, 4034, 4040, 4040, 4040, 4040, 4040, 4053, 4318, 4341, 4384, 5096, 5343, 5367]\n",
      "\n",
      "Number of annotations person :  669\n",
      "Number of annotations man :  2826\n",
      "Number of annotations woman :  1887\n",
      "Number of annotations child :  2636\n"
     ]
    }
   ],
   "source": [
    "## Tools zum durchsuchen eines exports aus label-studio im JSON Format\n",
    "import json\n",
    "\n",
    "path_to_json = \"project-1-at-2023-01-23-15-16-4b8bba1d.json\"\n",
    "\n",
    "\n",
    "def findLabelsInJson():\n",
    "    \"\"\"Finds all occurrences of labels and unnamed labels\"\"\"\n",
    "\n",
    "    json_file = open(path_to_json)\n",
    "    deserialized_json = json.loads(json_file.read())\n",
    "    noLabelCount = 0\n",
    "    nolabelIds = []\n",
    "    currentTaskId = 0\n",
    "    labels = set()\n",
    "\n",
    "    for task in deserialized_json:\n",
    "        currentTaskId = task['id']\n",
    "\n",
    "        for annotations in task['annotations']:\n",
    "            for result in annotations['result']:\n",
    "                try:\n",
    "                    for rectanglelabels in result['value']['rectanglelabels']:\n",
    "                        labels.add(rectanglelabels)\n",
    "                except:\n",
    "                    noLabelCount += 1\n",
    "                    nolabelIds.append(currentTaskId)\n",
    "\n",
    "    print(\"Label names: \", labels)\n",
    "    print(\"Pictures with unnamed labels: \", noLabelCount)\n",
    "    print(\"PictureIds with unnamed labels: \", nolabelIds)\n",
    "    json_file.close()\n",
    "\n",
    "\n",
    "def countAnnotationsInJsonFor(label):\n",
    "    \"\"\"Counts all annotations of a specific label\"\"\"\n",
    "\n",
    "    json_file = open(path_to_json)\n",
    "    deserialized_json = json.loads(json_file.read())\n",
    "    labelCount = 0\n",
    "\n",
    "    for task in deserialized_json:\n",
    "        for annotations in task['annotations']:\n",
    "            for result in annotations['result']:\n",
    "                try:\n",
    "                    for rectanglelabels in result['value']['rectanglelabels']:\n",
    "                        if rectanglelabels == label:\n",
    "                            labelCount += 1\n",
    "                except:\n",
    "                    break\n",
    "\n",
    "    print(\"Number of annotations\", label, \": \", labelCount)\n",
    "    json_file.close()\n",
    "\n",
    "\n",
    "findLabelsInJson()\n",
    "print(\"\")\n",
    "countAnnotationsInJsonFor(\"person\")\n",
    "countAnnotationsInJsonFor(\"man\")\n",
    "countAnnotationsInJsonFor(\"woman\")\n",
    "countAnnotationsInJsonFor(\"child\")"
   ],
   "metadata": {
    "collapsed": false
   }
  },
  {
   "cell_type": "code",
   "execution_count": null,
   "outputs": [],
   "source": [],
   "metadata": {
    "collapsed": false
   }
  }
 ],
 "metadata": {
  "kernelspec": {
   "display_name": "Python 3",
   "language": "python",
   "name": "python3"
  },
  "language_info": {
   "codemirror_mode": {
    "name": "ipython",
    "version": 2
   },
   "file_extension": ".py",
   "mimetype": "text/x-python",
   "name": "python",
   "nbconvert_exporter": "python",
   "pygments_lexer": "ipython2",
   "version": "2.7.6"
  }
 },
 "nbformat": 4,
 "nbformat_minor": 0
}
