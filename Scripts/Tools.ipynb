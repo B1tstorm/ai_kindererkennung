{
 "cells": [
  {
   "cell_type": "code",
   "execution_count": null,
   "metadata": {
    "collapsed": true
   },
   "outputs": [],
   "source": [
    "# Diverse Tools"
   ]
  },
  {
   "cell_type": "code",
   "execution_count": null,
   "outputs": [],
   "source": [
    "## Tools zum durchsuchen eines exports aus label-studio im JSON Format\n",
    "import json\n",
    "\n",
    "path_to_json = \"project-1-at-2023-01-23-15-16-4b8bba1d.json\"\n",
    "\n",
    "\n",
    "def findLabelsInJson():\n",
    "    \"\"\"Finds all occurrences of labels and unnamed labels\"\"\"\n",
    "\n",
    "    json_file = open(path_to_json)\n",
    "    deserialized_json = json.loads(json_file.read())\n",
    "    noLabelCount = 0\n",
    "    nolabelIds = []\n",
    "    currentTaskId = 0\n",
    "    labels = set()\n",
    "\n",
    "    for task in deserialized_json:\n",
    "        currentTaskId = task['id']\n",
    "\n",
    "        for annotations in task['annotations']:\n",
    "            for result in annotations['result']:\n",
    "                try:\n",
    "                    for rectanglelabels in result['value']['rectanglelabels']:\n",
    "                        labels.add(rectanglelabels)\n",
    "                except:\n",
    "                    noLabelCount += 1\n",
    "                    nolabelIds.append(currentTaskId)\n",
    "\n",
    "    print(\"Label names: \", labels)\n",
    "    print(\"Pictures with unnamed labels: \", noLabelCount)\n",
    "    print(\"PictureIds with unnamed labels: \", nolabelIds)\n",
    "    json_file.close()\n",
    "\n",
    "\n",
    "def countAnnotationsInJsonFor(label):\n",
    "    \"\"\"Counts all annotations of a specific label\"\"\"\n",
    "\n",
    "    json_file = open(path_to_json)\n",
    "    deserialized_json = json.loads(json_file.read())\n",
    "    labelCount = 0\n",
    "\n",
    "    for task in deserialized_json:\n",
    "        for annotations in task['annotations']:\n",
    "            for result in annotations['result']:\n",
    "                try:\n",
    "                    for rectanglelabels in result['value']['rectanglelabels']:\n",
    "                        if rectanglelabels == label:\n",
    "                            labelCount += 1\n",
    "                except:\n",
    "                    break\n",
    "\n",
    "    print(\"Number of annotations\", label, \": \", labelCount)\n",
    "    json_file.close()\n",
    "\n",
    "\n",
    "findLabelsInJson()\n",
    "print(\"\")\n",
    "countAnnotationsInJsonFor(\"person\")\n",
    "countAnnotationsInJsonFor(\"man\")\n",
    "countAnnotationsInJsonFor(\"woman\")\n",
    "countAnnotationsInJsonFor(\"child\")"
   ],
   "metadata": {
    "collapsed": false
   }
  },
  {
   "cell_type": "code",
   "execution_count": null,
   "outputs": [],
   "source": [],
   "metadata": {
    "collapsed": false
   }
  }
 ],
 "metadata": {
  "kernelspec": {
   "display_name": "Python 3",
   "language": "python",
   "name": "python3"
  },
  "language_info": {
   "codemirror_mode": {
    "name": "ipython",
    "version": 2
   },
   "file_extension": ".py",
   "mimetype": "text/x-python",
   "name": "python",
   "nbconvert_exporter": "python",
   "pygments_lexer": "ipython2",
   "version": "2.7.6"
  }
 },
 "nbformat": 4,
 "nbformat_minor": 0
}
