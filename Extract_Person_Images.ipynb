{
 "cells": [
  {
   "cell_type": "markdown",
   "source": [],
   "metadata": {
    "collapsed": false
   }
  },
  {
   "cell_type": "code",
   "execution_count": null,
   "outputs": [],
   "source": [
    "# import os\n",
    "#\n",
    "# curDir = os.getcwd()\n",
    "# os.mkdir(os.getcwd() + \"/images\")\n",
    "# os.mkdir(os.getcwd() + \"/models\")\n",
    "# os.chdir(os.getcwd() + \"/images\")\n",
    "# os.mkdir(os.getcwd() + \"/all_images\")\n",
    "# os.mkdir(os.getcwd() + \"/detected_persons\")\n",
    "# os.mkdir(os.getcwd() + \"/not_relevant_label\")\n",
    "# os.chdir(curDir)\n"
   ],
   "metadata": {
    "collapsed": false
   }
  },
  {
   "cell_type": "markdown",
   "source": [
    "### Save the Directory's Pathes"
   ],
   "metadata": {
    "collapsed": false
   }
  },
  {
   "cell_type": "code",
   "execution_count": null,
   "outputs": [],
   "source": [
    "import os\n",
    "\n",
    "\n",
    "def get_Path_TO_ALL_IMAGES():\n",
    "    curDir = os.getcwd()\n",
    "    os.chdir(\"images/all_images\")\n",
    "    path = os.getcwd()\n",
    "    os.chdir(curDir)\n",
    "    return path\n",
    "\n",
    "\n",
    "def get_Path_TO_DETECTED_PERSONS():\n",
    "    curDir = os.getcwd()\n",
    "    os.chdir(\"images/detected_persons\")\n",
    "    path = os.getcwd()\n",
    "    os.chdir(curDir)\n",
    "    return path\n",
    "\n",
    "\n",
    "def get_Path_TO_Not_Relevant_Label():\n",
    "    curDir = os.getcwd()\n",
    "    os.chdir(\"images/not_relevant_label\")\n",
    "    path = os.getcwd()\n",
    "    os.chdir(curDir)\n",
    "    return path\n",
    "\n",
    "\n",
    "def get_PATH_TO_MODEL_DIR():\n",
    "    curDir = os.getcwd()\n",
    "    os.chdir(\"label-studio-ml-backend/label_studio_ml/od_tensorflow/data/server/models/ssd_resnet50_v1_fpn_640x640_coco17_tpu-8/saved_model\")\n",
    "    path = os.getcwd()\n",
    "    os.chdir(curDir)\n",
    "    return path\n",
    "\n",
    "\n",
    "PATH_TO_DETECTED_PERSONS = get_Path_TO_DETECTED_PERSONS()\n",
    "PATH_TO_ALL_IMAGES = get_Path_TO_ALL_IMAGES()\n",
    "PATH_TO_MODEL_DIR = get_PATH_TO_MODEL_DIR()\n",
    "PATH_TO_NOT_RELEVANT_LABEL = get_Path_TO_Not_Relevant_Label()"
   ],
   "metadata": {
    "collapsed": false
   }
  },
  {
   "cell_type": "code",
   "execution_count": null,
   "outputs": [],
   "source": [],
   "metadata": {
    "collapsed": false,
    "pycharm": {
     "name": "#%%\n"
    }
   }
  },
  {
   "cell_type": "code",
   "execution_count": null,
   "outputs": [],
   "source": [],
   "metadata": {
    "collapsed": false,
    "pycharm": {
     "name": "#%%\n"
    }
   }
  },
  {
   "cell_type": "code",
   "execution_count": null,
   "outputs": [],
   "source": [
    "os.environ['TF_CPP_MIN_LOG_LEVEL'] = '2'  # Suppress TensorFlow logging (1)\n",
    "import pathlib\n",
    "import tensorflow as tf\n",
    "\n",
    "tf.get_logger().setLevel('ERROR')  # Suppress TensorFlow logging (2)\n",
    "\n",
    "# Enable GPU dynamic memory allocation\n",
    "gpus = tf.config.experimental.list_physical_devices('GPU')\n",
    "for gpu in gpus:\n",
    "    tf.config.experimental.set_memory_growth(gpu, True)"
   ],
   "metadata": {
    "collapsed": false,
    "pycharm": {
     "name": "#%%\n"
    }
   }
  },
  {
   "cell_type": "code",
   "execution_count": null,
   "outputs": [],
   "source": [
    "def get_Image_Paths_Array(path):\n",
    "    \"\"\"\n",
    "    @path ist ein pfad zu einem Ordner mit unterordner die Bilder Inhalten\n",
    "    :returns ein Array mit den pfaden zu jedem Bild in den Unterordner\n",
    "    \"\"\"\n",
    "    # assign directory\n",
    "    #path = '/Volumes/Anas SSD/Bachelorarbeit/Bilder(Sammlung1)/'\n",
    "    array = []\n",
    "    for image in os.listdir(path):\n",
    "        fullFileName = os.path.join(path, image)\n",
    "        array.append(fullFileName)\n",
    "    return array\n",
    "\n",
    "\n",
    "IMAGE_PATHS = get_Image_Paths_Array(PATH_TO_ALL_IMAGES)\n",
    "len(IMAGE_PATHS)"
   ],
   "metadata": {
    "collapsed": false
   }
  },
  {
   "cell_type": "code",
   "execution_count": null,
   "outputs": [],
   "source": [
    "import numpy as np\n",
    "\n",
    "\n",
    "def clear_processed_images(image_array):\n",
    "    processed_images = os.listdir(PATH_TO_DETECTED_PERSONS) + os.listdir(PATH_TO_NOT_RELEVANT_LABEL)\n",
    "    for image in processed_images:\n",
    "        image_name = os.path.join(os.getcwd() + \"/images/all_images/\", image)\n",
    "        index = np.argwhere(image_array == image_name)\n",
    "        image_array = np.delete(image_array, index)\n",
    "    return image_array\n",
    "\n",
    "\n",
    "IMAGE_PATHS = clear_processed_images(IMAGE_PATHS)\n",
    "len(IMAGE_PATHS)\n"
   ],
   "metadata": {
    "collapsed": false
   }
  },
  {
   "cell_type": "code",
   "execution_count": null,
   "outputs": [],
   "source": [
    "# Download labels file\n",
    "def download_labels(filename):\n",
    "    base_url = 'https://raw.githubusercontent.com/tensorflow/models/master/research/object_detection/data/'\n",
    "    label_dir = tf.keras.utils.get_file(fname=filename,\n",
    "                                        origin=base_url + filename,\n",
    "                                        untar=False)\n",
    "    label_dir = pathlib.Path(label_dir)\n",
    "    return str(label_dir)\n",
    "\n",
    "\n",
    "# TODO\n",
    "def get_labels(filename):\n",
    "    path = ''\n",
    "\n",
    "\n",
    "LABEL_FILENAME = 'mscoco_label_map.pbtxt'\n",
    "PATH_TO_LABELS = download_labels(LABEL_FILENAME)\n",
    "\n",
    "print(\"Pfad: \" + PATH_TO_LABELS)"
   ],
   "metadata": {
    "collapsed": false,
    "pycharm": {
     "name": "#%%\n"
    }
   }
  },
  {
   "cell_type": "code",
   "execution_count": null,
   "outputs": [],
   "source": [
    "import time\n",
    "from object_detection.utils import label_map_util\n",
    "from object_detection.utils import visualization_utils as viz_utils\n",
    "\n",
    "# Es ist notwendig das matplotlib Backend nach dem viz_utils import wieder umzustellen damit die inline plot funktion funktioniert, da in visualization_utils das matplotlib Backend überschrieben wird\n",
    "\n",
    "#matplotlib.use(\"module://matplotlib_inline.backend_inline\")\n",
    "#print(matplotlib.get_backend())\n",
    "\n",
    "PATH_TO_SAVED_MODEL = PATH_TO_MODEL_DIR\n",
    "print('Loading model...', end='')\n",
    "start_time = time.time()\n",
    "\n",
    "# Load saved model and build the detection function\n",
    "detect_fn = tf.saved_model.load(PATH_TO_SAVED_MODEL)\n",
    "\n",
    "end_time = time.time()\n",
    "elapsed_time = end_time - start_time\n",
    "print('Done! Took {} seconds'.format(elapsed_time))"
   ],
   "metadata": {
    "collapsed": false
   }
  },
  {
   "cell_type": "code",
   "execution_count": null,
   "outputs": [],
   "source": [
    "category_index = label_map_util.create_category_index_from_labelmap(PATH_TO_LABELS, use_display_name=True)"
   ],
   "metadata": {
    "collapsed": false,
    "pycharm": {
     "name": "#%%\n"
    }
   }
  },
  {
   "cell_type": "code",
   "execution_count": null,
   "outputs": [],
   "source": [
    "#% matplotlib inline\n",
    "import matplotlib\n",
    "\n",
    "matplotlib.use(\"module://matplotlib_inline.backend_inline\")\n",
    "#matplotlib.use(\"MacOSX\")\n",
    "\n",
    "from PIL import Image\n",
    "import matplotlib.pyplot as plt\n",
    "import warnings\n",
    "\n",
    "warnings.filterwarnings('ignore')  # Suppress Matplotlib warnings\n",
    "\n",
    "\n",
    "def load_image_into_numpy_array(path):\n",
    "    \"\"\"Load an image from file into a numpy array.\n",
    "\n",
    "    Puts image into numpy array to feed into tensorflow graph.\n",
    "    Note that by convention we put it into a numpy array with shape\n",
    "    (height, width, channels), where channels=3 for RGB.\n",
    "\n",
    "    Args:\n",
    "      path: the file path to the image\n",
    "\n",
    "    Returns:\n",
    "      uint8 numpy array with shape (img_height, img_width, 3)\n",
    "    \"\"\"\n",
    "    return np.array(Image.open(path))\n",
    "\n"
   ],
   "metadata": {
    "collapsed": false
   }
  },
  {
   "cell_type": "code",
   "execution_count": null,
   "outputs": [],
   "source": [
    "\n",
    "#detected_Images = np.unique(detected_Images)\n",
    "for image_path in IMAGE_PATHS:\n",
    "    print('Running inference for {}... '.format(image_path), end='')\n",
    "\n",
    "    if '.DS_Store' in image_path:\n",
    "        continue\n",
    "\n",
    "    image_np = load_image_into_numpy_array(image_path)\n",
    "    if len(image_np.shape) == 2:\n",
    "        image_np = np.stack((image_np,) * 3, axis=-1)\n",
    "\n",
    "    # The input needs to be a tensor, convert it using `tf.convert_to_tensor`.\n",
    "    input_tensor = tf.convert_to_tensor(image_np)\n",
    "    # The model expects a batch of images, so add an axis with `tf.newaxis`.\n",
    "    input_tensor = input_tensor[tf.newaxis, ...]\n",
    "\n",
    "    time1 = time.time()\n",
    "    # input_tensor = np.expand_dims(image_np, 0)\n",
    "    detections = detect_fn(input_tensor)\n",
    "\n",
    "    # All outputs are batches tensors.\n",
    "    # Convert to numpy arrays, and take index [0] to remove the batch dimension.\n",
    "    # We're only interested in the first num_detections.\n",
    "    num_detections = int(detections.pop('num_detections'))\n",
    "    detections = {key: value[0, :num_detections].numpy()\n",
    "                  for key, value in detections.items()}\n",
    "    detections['num_detections'] = num_detections\n",
    "\n",
    "    # detection_classes should be ints.\n",
    "    detections['detection_classes'] = detections['detection_classes'].astype(np.int64)\n",
    "\n",
    "    ################################################################################################\n",
    "    \"\"\"MOVE THE IMAGES WITH PERSONS INTO ANOTER DIR\"\"\"\n",
    "    indexOfEveryPredictedOne = np.where(detections['detection_classes'] == 1)[\n",
    "        0]  #save the indexes of every value =1 in the array \"detection_classes\"\n",
    "    scoreOfAllOne = []\n",
    "    for index in indexOfEveryPredictedOne:\n",
    "        score = detections['detection_scores'][index]\n",
    "        scoreOfAllOne.append(score)  # Save the scores of everey \"class 1\"  has been predicted\n",
    "\n",
    "    if any(num > 0.3 for num in scoreOfAllOne):\n",
    "        destinationPath = PATH_TO_DETECTED_PERSONS\n",
    "        os.system(\"cp \" + \"\\\"\" + image_path + \"\\\"\" + \" \\\"\" + destinationPath + \"\\\"\")\n",
    "    else:\n",
    "        destinationPath = PATH_TO_NOT_RELEVANT_LABEL\n",
    "        os.system(\"cp \" + \"\\\"\" + image_path + \"\\\"\" + \" \\\"\" + destinationPath + \"\\\"\")\n",
    "\n",
    "    ################################################################################################\n",
    "    time2 = time.time()\n",
    "    print(\"took: \", time2 - time1)\n",
    "    image_np_with_detections = image_np.copy()\n",
    "\n",
    "    # viz_utils.visualize_boxes_and_labels_on_image_array(\n",
    "    #     image_np_with_detections,\n",
    "    #     detections['detection_boxes'],\n",
    "    #\n",
    "    #     detections['detection_classes'],\n",
    "    #     detections['detection_scores'],\n",
    "    #     category_index,\n",
    "    #     use_normalized_coordinates=True,\n",
    "    #     max_boxes_to_draw=200,\n",
    "    #     min_score_thresh=.3,\n",
    "    #     agnostic_mode=False)\n",
    "    #\n",
    "    # plt.figure()\n",
    "    # plt.imshow(image_np_with_detections)\n",
    "    # print('Done')\n",
    "    # plt.show()\n",
    "\n",
    "end_time = time.time()\n",
    "print(\"###################################################################################################\")\n",
    "print(\"completed in\", end_time - start_time)\n",
    "# sphinx_gallery_thumbnail_number = 2"
   ],
   "metadata": {
    "collapsed": false
   }
  },
  {
   "cell_type": "code",
   "execution_count": null,
   "outputs": [],
   "source": [],
   "metadata": {
    "collapsed": false,
    "pycharm": {
     "name": "#%%\n"
    }
   }
  }
 ],
 "metadata": {
  "kernelspec": {
   "display_name": "Python 3",
   "language": "python",
   "name": "python3"
  },
  "language_info": {
   "codemirror_mode": {
    "name": "ipython",
    "version": 2
   },
   "file_extension": ".py",
   "mimetype": "text/x-python",
   "name": "python",
   "nbconvert_exporter": "python",
   "pygments_lexer": "ipython2",
   "version": "2.7.6"
  }
 },
 "nbformat": 4,
 "nbformat_minor": 0
}
